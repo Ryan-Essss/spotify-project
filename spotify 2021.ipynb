{
 "cells": [
  {
   "cell_type": "code",
   "execution_count": 2,
   "metadata": {},
   "outputs": [
    {
     "name": "stdout",
     "output_type": "stream",
     "text": [
      "['resources\\\\2021\\\\feb1.csv', 'resources\\\\2021\\\\feb2.csv', 'resources\\\\2021\\\\jan1.csv', 'resources\\\\2021\\\\jan2.csv', 'resources\\\\2021\\\\jan3.csv', 'resources\\\\2021\\\\jan4.csv']\n"
     ]
    }
   ],
   "source": [
    "%matplotlib inline\n",
    "import matplotlib.pyplot as plt\n",
    "import pandas as pd\n",
    "import numpy as np\n",
    "import requests\n",
    "import time\n",
    "import scipy.stats as st\n",
    "from scipy.stats import linregress\n",
    "from pprint import pprint\n",
    "from matplotlib import figure\n",
    "import glob\n",
    "\n",
    "final_data_file = r'C:\\Users\\robma\\homework\\spotify-project\\output_data\\Spotify_2021.csv'\n",
    "\n",
    "csv_list = glob.glob('**/resources/2021/*.csv', recursive=True)\n",
    "print(csv_list)\n"
   ]
  },
  {
   "cell_type": "code",
   "execution_count": 3,
   "metadata": {},
   "outputs": [
    {
     "name": "stdout",
     "output_type": "stream",
     "text": [
      "resources\\2021\\feb1.csv\n",
      "resources\\2021\\feb2.csv\n",
      "resources\\2021\\jan1.csv\n",
      "resources\\2021\\jan2.csv\n",
      "resources\\2021\\jan3.csv\n",
      "resources\\2021\\jan4.csv\n"
     ]
    }
   ],
   "source": [
    "df_names = []\n",
    "dataframes = []\n",
    "\n",
    "for file in csv_list:\n",
    "    df_name = file\n",
    "    df_names.append(df_name)\n",
    "    print(df_name)\n",
    "# df_names\n",
    "for name in csv_list:\n",
    "        dataframes.append(pd.read_csv(name, header=1, encoding = 'UTF-8'))\n",
    "# set dataframe variables\n",
    "\n",
    "feb1 = dataframes[0]\n",
    "feb2 = dataframes[1]\n",
    "jan1 = dataframes[2]\n",
    "jan2 = dataframes[3]\n",
    "jan3 = dataframes[4]\n",
    "jan4 = dataframes[5]\n",
    "\n",
    "\n",
    "\n",
    "# create 'Week' column in dataframes\n",
    "\n",
    "# february\n",
    "feb1['Week'] = '1'\n",
    "feb2['Week'] = '2'\n",
    "\n",
    "# january - 5 weeks\n",
    "jan1['Week'] = '1'\n",
    "jan2['Week'] = '2'\n",
    "jan3['Week'] = '3'\n",
    "jan4['Week'] = '4'\n",
    "\n",
    "\n",
    "# set monthly data frames\n",
    "# january\n",
    "january = [jan1,jan2,jan3,jan4]\n",
    "january_df = pd.concat(january)\n",
    "january_df['Month'] = 'January'\n",
    "# january_df.to_csv(january_data)\n",
    "# february\n",
    "february = [feb1,feb2]\n",
    "february_df = pd.concat(february)\n",
    "february_df['Month'] = 'February'\n",
    "# february_df.to_csv(february_data)\n",
    "# march\n",
    "\n",
    "# set up yearly dataframe\n",
    "months = [january_df, february_df]\n",
    "year = pd.concat(months)\n",
    "year\n",
    "spotify2021_df = year.loc[:,['Position','Track Name', 'Artist', 'Streams', 'Week', 'Month']]\n",
    "spotify2021_df['Year'] = '2021'\n",
    "spotify2021_df\n",
    "# export csv\n",
    "spotify2021_df.to_csv(final_data_file, encoding = 'utf-8-sig')"
   ]
  },
  {
   "cell_type": "code",
   "execution_count": null,
   "metadata": {},
   "outputs": [],
   "source": []
  }
 ],
 "metadata": {
  "kernelspec": {
   "display_name": "Python [conda env:PythonData] *",
   "language": "python",
   "name": "conda-env-PythonData-py"
  },
  "language_info": {
   "codemirror_mode": {
    "name": "ipython",
    "version": 3
   },
   "file_extension": ".py",
   "mimetype": "text/x-python",
   "name": "python",
   "nbconvert_exporter": "python",
   "pygments_lexer": "ipython3",
   "version": "3.6.10"
  }
 },
 "nbformat": 4,
 "nbformat_minor": 4
}
